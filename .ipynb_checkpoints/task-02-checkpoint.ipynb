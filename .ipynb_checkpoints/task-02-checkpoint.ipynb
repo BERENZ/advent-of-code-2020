{
 "cells": [
  {
   "cell_type": "markdown",
   "metadata": {},
   "source": [
    "## Day 2: Password Philosophy \n",
    "\n",
    "Your flight departs in a few days from the coastal airport; the easiest way down to the coast from here is via toboggan.\n",
    "\n",
    "The shopkeeper at the North Pole Toboggan Rental Shop is having a bad day. \"Something's wrong with our computers; we can't log in!\" You ask if you can take a look.\n",
    "\n",
    "Their password database seems to be a little corrupted: some of the passwords wouldn't have been allowed by the Official Toboggan Corporate Policy that was in effect when they were chosen.\n",
    "\n",
    "To try to debug the problem, they have created a list (your puzzle input) of passwords (according to the corrupted database) and the corporate policy when that password was set.\n",
    "\n",
    "For example, suppose you have the following list:\n",
    "\n",
    "```\n",
    "1-3 a: abcde\n",
    "1-3 b: cdefg\n",
    "2-9 c: ccccccccc\n",
    "```\n",
    "\n",
    "Each line gives the password policy and then the password. The password policy indicates the lowest and highest number of times a given letter must appear for the password to be valid. For example, 1-3 a means that the password must contain a at least 1 time and at most 3 times.\n",
    "\n",
    "In the above example, 2 passwords are valid. The middle password, cdefg, is not; it contains no instances of b, but needs at least 1. The first and third passwords are valid: they contain one a or nine c, both within the limits of their respective policies."
   ]
  },
  {
   "cell_type": "markdown",
   "metadata": {},
   "source": [
    "# Setup"
   ]
  },
  {
   "cell_type": "code",
   "execution_count": 46,
   "metadata": {},
   "outputs": [],
   "source": [
    "using DataFrames"
   ]
  },
  {
   "cell_type": "code",
   "execution_count": 127,
   "metadata": {},
   "outputs": [
    {
     "data": {
      "text/html": [
       "<table class=\"data-frame\"><thead><tr><th></th><th>x</th></tr><tr><th></th><th>String</th></tr></thead><tbody><p>6 rows × 1 columns</p><tr><th>1</th><td>2-4 p: vpkpp</td></tr><tr><th>2</th><td>6-16 b: bbbbbbbbbbbbbbbpb</td></tr><tr><th>3</th><td>6-7 z: zzfzzdz</td></tr><tr><th>4</th><td>4-6 q: tfzqvqcpcmqqjqzd</td></tr><tr><th>5</th><td>7-8 k: rkkkknkw</td></tr><tr><th>6</th><td>5-14 t: ttttnttttttdttttttt</td></tr></tbody></table>"
      ],
      "text/latex": [
       "\\begin{tabular}{r|c}\n",
       "\t& x\\\\\n",
       "\t\\hline\n",
       "\t& String\\\\\n",
       "\t\\hline\n",
       "\t1 & 2-4 p: vpkpp \\\\\n",
       "\t2 & 6-16 b: bbbbbbbbbbbbbbbpb \\\\\n",
       "\t3 & 6-7 z: zzfzzdz \\\\\n",
       "\t4 & 4-6 q: tfzqvqcpcmqqjqzd \\\\\n",
       "\t5 & 7-8 k: rkkkknkw \\\\\n",
       "\t6 & 5-14 t: ttttnttttttdttttttt \\\\\n",
       "\\end{tabular}\n"
      ],
      "text/plain": [
       "6×1 DataFrame\n",
       "│ Row │ x                           │\n",
       "│     │ \u001b[90mString\u001b[39m                      │\n",
       "├─────┼─────────────────────────────┤\n",
       "│ 1   │ 2-4 p: vpkpp                │\n",
       "│ 2   │ 6-16 b: bbbbbbbbbbbbbbbpb   │\n",
       "│ 3   │ 6-7 z: zzfzzdz              │\n",
       "│ 4   │ 4-6 q: tfzqvqcpcmqqjqzd     │\n",
       "│ 5   │ 7-8 k: rkkkknkw             │\n",
       "│ 6   │ 5-14 t: ttttnttttttdttttttt │"
      ]
     },
     "execution_count": 127,
     "metadata": {},
     "output_type": "execute_result"
    }
   ],
   "source": [
    "x = readlines(\"input-2.txt\")\n",
    "data = DataFrame(:x => x)\n",
    "head(data)"
   ]
  },
  {
   "cell_type": "code",
   "execution_count": 134,
   "metadata": {},
   "outputs": [
    {
     "data": {
      "text/plain": [
       "474"
      ]
     },
     "execution_count": 134,
     "metadata": {},
     "output_type": "execute_result"
    }
   ],
   "source": [
    "data.min_val = parse.(Int, map(x -> x.match, match.(r\"^\\d{1,3}\", data.x)))\n",
    "data.max_val = parse.(Int, replace.(map(x -> x.match, match.(r\"-\\d{1,3}\", data.x)), \"-\" => \"\"))\n",
    "data.letter = map(x -> x.match, match.(r\"[a-z]{1}\", data.x))\n",
    "data.pattern = map(x -> x.match, match.(r\"[a-z]{2,}\", data.x))\n",
    "data.lengths = [length(collect(eachmatch(Regex(data.letter[i]), data.pattern[i]))) for i in 1:nrow(data)]\n",
    "data.flag = (data.lengths .>= data.min_val) .& (data.lengths .<= data.max_val)\n",
    "sum(data.flag)"
   ]
  },
  {
   "cell_type": "code",
   "execution_count": 136,
   "metadata": {},
   "outputs": [
    {
     "data": {
      "text/html": [
       "<table class=\"data-frame\"><thead><tr><th></th><th>flag</th><th>min_val</th><th>max_val</th><th>pattern</th><th>lengths</th></tr><tr><th></th><th>Bool</th><th>Int64</th><th>Int64</th><th>SubStri…</th><th>Int64</th></tr></thead><tbody><p>526 rows × 5 columns</p><tr><th>1</th><td>0</td><td>6</td><td>7</td><td>zzfzzdz</td><td>5</td></tr><tr><th>2</th><td>0</td><td>7</td><td>8</td><td>rkkkknkw</td><td>5</td></tr><tr><th>3</th><td>0</td><td>5</td><td>14</td><td>ttttnttttttdttttttt</td><td>17</td></tr><tr><th>4</th><td>0</td><td>3</td><td>4</td><td>hrht</td><td>2</td></tr><tr><th>5</th><td>0</td><td>2</td><td>6</td><td>ccccccc</td><td>7</td></tr><tr><th>6</th><td>0</td><td>5</td><td>7</td><td>pmtgqgg</td><td>3</td></tr><tr><th>7</th><td>0</td><td>16</td><td>18</td><td>vhhhhhhhhhhhhphhrnh</td><td>15</td></tr><tr><th>8</th><td>0</td><td>6</td><td>8</td><td>lllnllxb</td><td>5</td></tr><tr><th>9</th><td>0</td><td>3</td><td>4</td><td>zjwz</td><td>2</td></tr><tr><th>10</th><td>0</td><td>6</td><td>7</td><td>hcmxbfx</td><td>1</td></tr><tr><th>11</th><td>0</td><td>8</td><td>10</td><td>vphrhhmhhz</td><td>5</td></tr><tr><th>12</th><td>0</td><td>7</td><td>8</td><td>tghttttt</td><td>6</td></tr><tr><th>13</th><td>0</td><td>2</td><td>11</td><td>hhhhhhhhhhhhhh</td><td>14</td></tr><tr><th>14</th><td>0</td><td>4</td><td>6</td><td>dgpmnqv</td><td>1</td></tr><tr><th>15</th><td>0</td><td>5</td><td>9</td><td>nmfnvhtrlzhbvd</td><td>2</td></tr><tr><th>16</th><td>0</td><td>10</td><td>11</td><td>brnjfbnnnmnnnnw</td><td>8</td></tr><tr><th>17</th><td>0</td><td>13</td><td>20</td><td>xdqcsdqdpkppddbdtdgg</td><td>7</td></tr><tr><th>18</th><td>0</td><td>7</td><td>8</td><td>fchfwjcfpvffdfh</td><td>6</td></tr><tr><th>19</th><td>0</td><td>2</td><td>5</td><td>dtddddddgdddx</td><td>10</td></tr><tr><th>20</th><td>0</td><td>11</td><td>15</td><td>zcwngpdjtzcpfvt</td><td>2</td></tr><tr><th>21</th><td>0</td><td>11</td><td>12</td><td>ccccccccccqz</td><td>10</td></tr><tr><th>22</th><td>0</td><td>8</td><td>10</td><td>vvkbszvvwr</td><td>4</td></tr><tr><th>23</th><td>0</td><td>1</td><td>7</td><td>fffsfffffffffrftfff</td><td>16</td></tr><tr><th>24</th><td>0</td><td>12</td><td>13</td><td>mlklllhkdmllndplj</td><td>7</td></tr><tr><th>25</th><td>0</td><td>11</td><td>17</td><td>jttxgmtmpxxxxzfpf</td><td>5</td></tr><tr><th>26</th><td>0</td><td>5</td><td>15</td><td>ckjvllsnmczlnsh</td><td>3</td></tr><tr><th>27</th><td>0</td><td>1</td><td>3</td><td>nlllllllllll</td><td>11</td></tr><tr><th>28</th><td>0</td><td>4</td><td>7</td><td>ctlrfrb</td><td>2</td></tr><tr><th>29</th><td>0</td><td>6</td><td>10</td><td>cvtsdlwggwbgn</td><td>2</td></tr><tr><th>30</th><td>0</td><td>3</td><td>4</td><td>qpzhj</td><td>1</td></tr><tr><th>&vellip;</th><td>&vellip;</td><td>&vellip;</td><td>&vellip;</td><td>&vellip;</td><td>&vellip;</td></tr></tbody></table>"
      ],
      "text/latex": [
       "\\begin{tabular}{r|ccccc}\n",
       "\t& flag & min\\_val & max\\_val & pattern & lengths\\\\\n",
       "\t\\hline\n",
       "\t& Bool & Int64 & Int64 & SubStri… & Int64\\\\\n",
       "\t\\hline\n",
       "\t1 & 0 & 6 & 7 & zzfzzdz & 5 \\\\\n",
       "\t2 & 0 & 7 & 8 & rkkkknkw & 5 \\\\\n",
       "\t3 & 0 & 5 & 14 & ttttnttttttdttttttt & 17 \\\\\n",
       "\t4 & 0 & 3 & 4 & hrht & 2 \\\\\n",
       "\t5 & 0 & 2 & 6 & ccccccc & 7 \\\\\n",
       "\t6 & 0 & 5 & 7 & pmtgqgg & 3 \\\\\n",
       "\t7 & 0 & 16 & 18 & vhhhhhhhhhhhhphhrnh & 15 \\\\\n",
       "\t8 & 0 & 6 & 8 & lllnllxb & 5 \\\\\n",
       "\t9 & 0 & 3 & 4 & zjwz & 2 \\\\\n",
       "\t10 & 0 & 6 & 7 & hcmxbfx & 1 \\\\\n",
       "\t11 & 0 & 8 & 10 & vphrhhmhhz & 5 \\\\\n",
       "\t12 & 0 & 7 & 8 & tghttttt & 6 \\\\\n",
       "\t13 & 0 & 2 & 11 & hhhhhhhhhhhhhh & 14 \\\\\n",
       "\t14 & 0 & 4 & 6 & dgpmnqv & 1 \\\\\n",
       "\t15 & 0 & 5 & 9 & nmfnvhtrlzhbvd & 2 \\\\\n",
       "\t16 & 0 & 10 & 11 & brnjfbnnnmnnnnw & 8 \\\\\n",
       "\t17 & 0 & 13 & 20 & xdqcsdqdpkppddbdtdgg & 7 \\\\\n",
       "\t18 & 0 & 7 & 8 & fchfwjcfpvffdfh & 6 \\\\\n",
       "\t19 & 0 & 2 & 5 & dtddddddgdddx & 10 \\\\\n",
       "\t20 & 0 & 11 & 15 & zcwngpdjtzcpfvt & 2 \\\\\n",
       "\t21 & 0 & 11 & 12 & ccccccccccqz & 10 \\\\\n",
       "\t22 & 0 & 8 & 10 & vvkbszvvwr & 4 \\\\\n",
       "\t23 & 0 & 1 & 7 & fffsfffffffffrftfff & 16 \\\\\n",
       "\t24 & 0 & 12 & 13 & mlklllhkdmllndplj & 7 \\\\\n",
       "\t25 & 0 & 11 & 17 & jttxgmtmpxxxxzfpf & 5 \\\\\n",
       "\t26 & 0 & 5 & 15 & ckjvllsnmczlnsh & 3 \\\\\n",
       "\t27 & 0 & 1 & 3 & nlllllllllll & 11 \\\\\n",
       "\t28 & 0 & 4 & 7 & ctlrfrb & 2 \\\\\n",
       "\t29 & 0 & 6 & 10 & cvtsdlwggwbgn & 2 \\\\\n",
       "\t30 & 0 & 3 & 4 & qpzhj & 1 \\\\\n",
       "\t$\\dots$ & $\\dots$ & $\\dots$ & $\\dots$ & $\\dots$ & $\\dots$ \\\\\n",
       "\\end{tabular}\n"
      ],
      "text/plain": [
       "526×5 DataFrame\n",
       "│ Row │ flag │ min_val │ max_val │ pattern             │ lengths │\n",
       "│     │ \u001b[90mBool\u001b[39m │ \u001b[90mInt64\u001b[39m   │ \u001b[90mInt64\u001b[39m   │ \u001b[90mSubString{String}\u001b[39m   │ \u001b[90mInt64\u001b[39m   │\n",
       "├─────┼──────┼─────────┼─────────┼─────────────────────┼─────────┤\n",
       "│ 1   │ 0    │ 6       │ 7       │ zzfzzdz             │ 5       │\n",
       "│ 2   │ 0    │ 7       │ 8       │ rkkkknkw            │ 5       │\n",
       "│ 3   │ 0    │ 5       │ 14      │ ttttnttttttdttttttt │ 17      │\n",
       "│ 4   │ 0    │ 3       │ 4       │ hrht                │ 2       │\n",
       "│ 5   │ 0    │ 2       │ 6       │ ccccccc             │ 7       │\n",
       "│ 6   │ 0    │ 5       │ 7       │ pmtgqgg             │ 3       │\n",
       "│ 7   │ 0    │ 16      │ 18      │ vhhhhhhhhhhhhphhrnh │ 15      │\n",
       "│ 8   │ 0    │ 6       │ 8       │ lllnllxb            │ 5       │\n",
       "│ 9   │ 0    │ 3       │ 4       │ zjwz                │ 2       │\n",
       "│ 10  │ 0    │ 6       │ 7       │ hcmxbfx             │ 1       │\n",
       "⋮\n",
       "│ 516 │ 0    │ 10      │ 15      │ zflnbhfqmhfsqnf     │ 4       │\n",
       "│ 517 │ 0    │ 7       │ 11      │ hqdbtbbhpht         │ 3       │\n",
       "│ 518 │ 0    │ 1       │ 2       │ bddsrd              │ 3       │\n",
       "│ 519 │ 0    │ 7       │ 10      │ phdkrrhkmhh         │ 4       │\n",
       "│ 520 │ 0    │ 2       │ 11      │ jjjjjjjjjjtzjjjjg   │ 14      │\n",
       "│ 521 │ 0    │ 3       │ 4       │ gxfgggg             │ 5       │\n",
       "│ 522 │ 0    │ 8       │ 9       │ bjqxpvzdddx         │ 3       │\n",
       "│ 523 │ 0    │ 7       │ 15      │ vcccccccccccccccc   │ 16      │\n",
       "│ 524 │ 0    │ 2       │ 3       │ gpggg               │ 4       │\n",
       "│ 525 │ 0    │ 7       │ 13      │ fddcdfgvbmpdd       │ 5       │\n",
       "│ 526 │ 0    │ 4       │ 5       │ rsssw               │ 3       │"
      ]
     },
     "execution_count": 136,
     "metadata": {},
     "output_type": "execute_result"
    }
   ],
   "source": [
    "data[data.flag .== 0,[:flag, :min_val, :max_val, :pattern, :lengths]]"
   ]
  },
  {
   "cell_type": "markdown",
   "metadata": {},
   "source": [
    "## Part Two \n",
    "\n",
    "While it appears you validated the passwords correctly, they don't seem to be what the Official Toboggan Corporate Authentication System is expecting.\n",
    "\n",
    "The shopkeeper suddenly realizes that he just accidentally explained the password policy rules from his old job at the sled rental place down the street! The Official Toboggan Corporate Policy actually works a little differently.\n",
    "\n",
    "Each policy actually describes two positions in the password, where 1 means the first character, 2 means the second character, and so on. (Be careful; Toboggan Corporate Policies have no concept of \"index zero\"!) Exactly one of these positions must contain the given letter. Other occurrences of the letter are irrelevant for the purposes of policy enforcement.\n",
    "\n",
    "Given the same example list from above:\n",
    "\n",
    "```\n",
    "1-3 a: abcde is valid: position 1 contains a and position 3 does not.\n",
    "1-3 b: cdefg is invalid: neither position 1 nor position 3 contains b.\n",
    "2-9 c: ccccccccc is invalid: both position 2 and position 9 contain c.\n",
    "```\n",
    "\n",
    "How many passwords are valid according to the new interpretation of the policies?"
   ]
  },
  {
   "cell_type": "code",
   "execution_count": 149,
   "metadata": {},
   "outputs": [
    {
     "data": {
      "text/plain": [
       "745"
      ]
     },
     "execution_count": 149,
     "metadata": {},
     "output_type": "execute_result"
    }
   ],
   "source": [
    "data.first_pos = SubString.(data.pattern, data.min_val, data.min_val)\n",
    "data.last_pos = SubString.(data.pattern, data.max_val, data.max_val)\n",
    "data[:, [:letter, :first_pos, :last_pos]]\n",
    "\n",
    "data.flag_pos = (data.first_pos .== data.letter) .+ (data.last_pos .== data.letter) \n",
    "\n",
    "sum(data.flag_pos .== 1)"
   ]
  }
 ],
 "metadata": {
  "kernelspec": {
   "display_name": "Julia 1.5.0",
   "language": "julia",
   "name": "julia-1.5"
  },
  "language_info": {
   "file_extension": ".jl",
   "mimetype": "application/julia",
   "name": "julia",
   "version": "1.5.0"
  }
 },
 "nbformat": 4,
 "nbformat_minor": 4
}
