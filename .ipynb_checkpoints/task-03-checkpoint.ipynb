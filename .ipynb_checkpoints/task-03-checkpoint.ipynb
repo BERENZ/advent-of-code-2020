{
 "cells": [
  {
   "cell_type": "markdown",
   "metadata": {},
   "source": [
    "## Day 3: Toboggan Trajectory ---\n",
    "With the toboggan login problems resolved, you set off toward the airport. While travel by toboggan might be easy, it's certainly not safe: there's very minimal steering and the area is covered in trees. You'll need to see which angles will take you near the fewest trees.\n",
    "\n",
    "Due to the local geology, trees in this area only grow on exact integer coordinates in a grid. You make a map (your puzzle input) of the open squares (.) and trees (#) you can see. For example:\n",
    "\n",
    "```\n",
    "..##.......\n",
    "#...#...#..\n",
    ".#....#..#.\n",
    "..#.#...#.#\n",
    ".#...##..#.\n",
    "..#.##.....\n",
    ".#.#.#....#\n",
    ".#........#\n",
    "#.##...#...\n",
    "#...##....#\n",
    ".#..#...#.#\n",
    "```\n",
    "\n",
    "These aren't the only trees, though; due to something you read about once involving arboreal genetics and biome stability, the same pattern repeats to the right many times:\n",
    "\n",
    "```\n",
    "..##.........##.........##.........##.........##.........##.......  --->\n",
    "#...#...#..#...#...#..#...#...#..#...#...#..#...#...#..#...#...#..\n",
    ".#....#..#..#....#..#..#....#..#..#....#..#..#....#..#..#....#..#.\n",
    "..#.#...#.#..#.#...#.#..#.#...#.#..#.#...#.#..#.#...#.#..#.#...#.#\n",
    ".#...##..#..#...##..#..#...##..#..#...##..#..#...##..#..#...##..#.\n",
    "..#.##.......#.##.......#.##.......#.##.......#.##.......#.##.....  --->\n",
    ".#.#.#....#.#.#.#....#.#.#.#....#.#.#.#....#.#.#.#....#.#.#.#....#\n",
    ".#........#.#........#.#........#.#........#.#........#.#........#\n",
    "#.##...#...#.##...#...#.##...#...#.##...#...#.##...#...#.##...#...\n",
    "#...##....##...##....##...##....##...##....##...##....##...##....#\n",
    ".#..#...#.#.#..#...#.#.#..#...#.#.#..#...#.#.#..#...#.#.#..#...#.#  --->\n",
    "```\n",
    "\n",
    "You start on the open square (.) in the top-left corner and need to reach the bottom (below the bottom-most row on your map).\n",
    "\n",
    "The toboggan can only follow a few specific slopes (you opted for a cheaper model that prefers rational numbers); start by counting all the trees you would encounter for the slope right 3, down 1:\n",
    "\n",
    "From your starting position at the top-left, check the position that is right 3 and down 1. Then, check the position that is right 3 and down 1 from there, and so on until you go past the bottom of the map.\n",
    "\n",
    "The locations you'd check in the above example are marked here with O where there was an open square and X where there was a tree:\n",
    "\n",
    "```\n",
    "..##.........##.........##.........##.........##.........##.......  --->\n",
    "#..O#...#..#...#...#..#...#...#..#...#...#..#...#...#..#...#...#..\n",
    ".#....X..#..#....#..#..#....#..#..#....#..#..#....#..#..#....#..#.\n",
    "..#.#...#O#..#.#...#.#..#.#...#.#..#.#...#.#..#.#...#.#..#.#...#.#\n",
    ".#...##..#..X...##..#..#...##..#..#...##..#..#...##..#..#...##..#.\n",
    "..#.##.......#.X#.......#.##.......#.##.......#.##.......#.##.....  --->\n",
    ".#.#.#....#.#.#.#.O..#.#.#.#....#.#.#.#....#.#.#.#....#.#.#.#....#\n",
    ".#........#.#........X.#........#.#........#.#........#.#........#\n",
    "#.##...#...#.##...#...#.X#...#...#.##...#...#.##...#...#.##...#...\n",
    "#...##....##...##....##...#X....##...##....##...##....##...##....#\n",
    ".#..#...#.#.#..#...#.#.#..#...X.#.#..#...#.#.#..#...#.#.#..#...#.#  --->\n",
    "```\n",
    "\n",
    "In this example, traversing the map using this slope would cause you to encounter 7 trees.\n",
    "\n",
    "Starting at the top-left corner of your map and following a slope of right 3 and down 1, how many trees would you encounter?"
   ]
  },
  {
   "cell_type": "markdown",
   "metadata": {},
   "source": [
    "# First puzzle"
   ]
  },
  {
   "cell_type": "markdown",
   "metadata": {},
   "source": [
    "To solve:\n",
    "\n",
    "1. how many repetitions is needed?\n",
    "2. for loop over matrix where 1 denotes a tree"
   ]
  },
  {
   "cell_type": "code",
   "execution_count": 49,
   "metadata": {},
   "outputs": [
    {
     "data": {
      "text/plain": [
       "323×31 LinearAlgebra.Adjoint{Bool,BitArray{2}}:\n",
       " 0  0  0  0  0  0  0  0  1  0  0  0  0  …  0  0  0  1  0  0  0  0  0  0  0  0\n",
       " 0  0  0  1  0  0  0  0  1  0  0  0  1     0  0  0  0  0  0  0  0  0  0  0  0\n",
       " 0  1  0  0  1  0  0  0  1  0  0  0  0     0  0  1  0  0  0  0  0  1  0  0  1\n",
       " 0  0  1  0  0  0  0  0  0  1  0  0  1     0  0  0  0  0  0  0  1  1  1  0  0\n",
       " 0  0  0  0  0  0  0  0  0  0  1  0  0     0  1  0  0  1  0  0  0  0  0  0  0\n",
       " 0  1  0  0  1  0  0  0  0  0  0  0  1  …  0  0  0  1  0  1  0  0  0  0  0  0\n",
       " 0  0  0  0  0  0  0  0  0  1  0  0  1     0  0  1  0  1  1  0  0  0  0  1  0\n",
       " 0  0  1  0  0  0  0  1  1  0  0  0  1     0  0  0  0  0  0  0  0  0  0  0  0\n",
       " 1  1  0  0  0  0  0  0  0  0  0  0  1     1  0  0  0  0  1  1  0  0  1  0  0\n",
       " 0  0  0  1  0  0  0  0  1  0  0  0  1     0  0  0  0  0  0  0  0  1  0  0  0\n",
       " 0  0  0  0  0  0  0  0  0  0  0  0  0  …  0  0  0  0  0  0  0  0  1  0  0  1\n",
       " 0  0  1  1  0  1  1  0  1  0  0  0  0     0  0  0  0  0  0  0  0  1  0  0  0\n",
       " 0  0  0  1  0  1  1  0  0  1  0  0  0     0  0  0  1  0  0  0  0  0  0  0  0\n",
       " ⋮              ⋮              ⋮        ⋱     ⋮              ⋮              ⋮\n",
       " 0  0  0  0  1  0  0  0  0  0  0  0  0     0  0  0  0  0  0  0  1  0  0  0  0\n",
       " 0  0  0  0  0  0  0  0  0  0  0  0  0     0  0  0  0  0  0  0  0  0  0  0  0\n",
       " 0  0  1  0  0  0  0  0  1  1  1  0  0     0  0  1  0  0  0  0  1  0  0  0  0\n",
       " 1  0  0  0  0  0  0  0  0  0  0  1  0     0  0  0  0  0  0  0  0  0  0  1  0\n",
       " 0  0  0  0  0  0  1  0  0  0  0  0  0  …  0  0  0  0  0  1  0  0  1  1  0  0\n",
       " 0  0  0  0  0  0  0  0  0  0  0  0  0     0  0  0  0  0  0  0  0  0  0  0  0\n",
       " 0  0  0  0  0  0  1  0  0  1  0  1  0     0  0  0  0  0  0  0  1  0  0  0  0\n",
       " 0  0  0  1  0  0  0  0  1  1  0  1  0     0  1  0  0  0  1  0  0  0  0  1  0\n",
       " 0  0  0  0  0  0  0  0  0  0  0  0  0     0  0  0  1  0  0  0  0  1  0  1  1\n",
       " 0  0  0  0  0  0  1  0  1  0  0  0  0  …  0  0  0  0  0  0  0  0  0  0  0  0\n",
       " 0  0  0  0  0  0  1  0  1  0  0  0  0     0  1  0  0  1  1  0  0  0  0  0  0\n",
       " 1  0  0  1  1  0  0  0  0  0  0  0  0     1  0  0  0  0  0  1  0  1  1  0  0"
      ]
     },
     "execution_count": 49,
     "metadata": {},
     "output_type": "execute_result"
    }
   ],
   "source": [
    "data = readlines(\"input-3.txt\") |> (x -> hcat(split.(x, \"\")...)) \n",
    "data_mm = (data .== \"#\")' "
   ]
  },
  {
   "cell_type": "markdown",
   "metadata": {},
   "source": [
    "We run while loop to count tress"
   ]
  },
  {
   "cell_type": "code",
   "execution_count": 50,
   "metadata": {
    "scrolled": true
   },
   "outputs": [
    {
     "data": {
      "text/plain": [
       "148"
      ]
     },
     "execution_count": 50,
     "metadata": {},
     "output_type": "execute_result"
    }
   ],
   "source": [
    "nrows, ncols = size(data_mm)\n",
    "task3_1 = repeat(data_mm, 1, Int(ceil((nrows)*3/ncols)))\n",
    "nrows = size(task3_1)[1]\n",
    "\n",
    "step_right = 1\n",
    "step_down = 1\n",
    "n_tress = 0\n",
    "\n",
    "while step_down < how_many\n",
    "    global step_down += 1\n",
    "    global step_right += 3\n",
    "    global n_tress += task3_1[step_down, step_right]\n",
    "end\n",
    "\n",
    "\n",
    "n_tress"
   ]
  },
  {
   "cell_type": "markdown",
   "metadata": {},
   "source": [
    "## Part Two \n",
    "Time to check the rest of the slopes - you need to minimize the probability of a sudden arboreal stop, after all.\n",
    "\n",
    "Determine the number of trees you would encounter if, for each of the following slopes, you start at the top-left corner and traverse the map all the way to the bottom:\n",
    "\n",
    "```\n",
    "Right 1, down 1.\n",
    "Right 3, down 1. (This is the slope you already checked.)\n",
    "Right 5, down 1.\n",
    "Right 7, down 1.\n",
    "Right 1, down 2.\n",
    "```\n",
    "\n",
    "In the above example, these slopes would find 2, 7, 3, 4, and 2 tree(s) respectively; multiplied together, these produce the answer 336.\n",
    "\n",
    "What do you get if you multiply together the number of trees encountered on each of the listed slopes?"
   ]
  },
  {
   "cell_type": "code",
   "execution_count": 51,
   "metadata": {},
   "outputs": [
    {
     "data": {
      "text/plain": [
       "check_trees (generic function with 1 method)"
      ]
     },
     "execution_count": 51,
     "metadata": {},
     "output_type": "execute_result"
    }
   ],
   "source": [
    "function check_trees(data, down, right) \n",
    "    nrows, ncols = size(data)\n",
    "    \n",
    "    task = repeat(data_mm, 1, Int(ceil((nrows)*right/ncols)))\n",
    "    nrows = size(task3_1)[1]\n",
    "\n",
    "    step_right = 1\n",
    "    step_down = 1\n",
    "    n_tress = 0\n",
    "\n",
    "    while step_down < how_many\n",
    "        step_down += down\n",
    "        step_right += right\n",
    "        n_tress += task[step_down, step_right]\n",
    "    end\n",
    "    \n",
    "    return n_tress\n",
    "end"
   ]
  },
  {
   "cell_type": "code",
   "execution_count": 52,
   "metadata": {},
   "outputs": [
    {
     "name": "stdout",
     "output_type": "stream",
     "text": [
      "[50, 148, 53, 64, 29]\n"
     ]
    },
    {
     "data": {
      "text/plain": [
       "727923200"
      ]
     },
     "execution_count": 52,
     "metadata": {},
     "output_type": "execute_result"
    }
   ],
   "source": [
    "result = [check_trees(data_mm, 1, 1), check_trees(data_mm, 1, 3), check_trees(data_mm, 1, 5),\n",
    "          check_trees(data_mm, 1, 7), check_trees(data_mm, 2, 1)]\n",
    "\n",
    "println(result)\n",
    "reduce(*, result)"
   ]
  }
 ],
 "metadata": {
  "@webio": {
   "lastCommId": null,
   "lastKernelId": null
  },
  "kernelspec": {
   "display_name": "Julia 1.5.0",
   "language": "julia",
   "name": "julia-1.5"
  },
  "language_info": {
   "file_extension": ".jl",
   "mimetype": "application/julia",
   "name": "julia",
   "version": "1.5.0"
  }
 },
 "nbformat": 4,
 "nbformat_minor": 4
}
