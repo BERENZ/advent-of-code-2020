{
 "cells": [
  {
   "cell_type": "markdown",
   "metadata": {},
   "source": [
    "## Day 4: Passport Processing\n",
    "You arrive at the airport only to realize that you grabbed your North Pole Credentials instead of your passport. While these documents are extremely similar, North Pole Credentials aren't issued by a country and therefore aren't actually valid documentation for travel in most of the world.\n",
    "\n",
    "It seems like you're not the only one having problems, though; a very long line has formed for the automatic passport scanners, and the delay could upset your travel itinerary.\n",
    "\n",
    "Due to some questionable network security, you realize you might be able to solve both of these problems at the same time.\n",
    "\n",
    "The automatic passport scanners are slow because they're having trouble detecting which passports have all required fields. The expected fields are as follows:\n",
    "\n",
    "```\n",
    "byr (Birth Year)\n",
    "iyr (Issue Year)\n",
    "eyr (Expiration Year)\n",
    "hgt (Height)\n",
    "hcl (Hair Color)\n",
    "ecl (Eye Color)\n",
    "pid (Passport ID)\n",
    "cid (Country ID)\n",
    "```\n",
    "\n",
    "Passport data is validated in batch files (your puzzle input). Each passport is represented as a sequence of key:value pairs separated by spaces or newlines. Passports are separated by blank lines.\n",
    "\n",
    "Here is an example batch file containing four passports:\n",
    "\n",
    "```\n",
    "ecl:gry pid:860033327 eyr:2020 hcl:#fffffd\n",
    "byr:1937 iyr:2017 cid:147 hgt:183cm\n",
    "\n",
    "iyr:2013 ecl:amb cid:350 eyr:2023 pid:028048884\n",
    "hcl:#cfa07d byr:1929\n",
    "\n",
    "hcl:#ae17e1 iyr:2013\n",
    "eyr:2024\n",
    "ecl:brn pid:760753108 byr:1931\n",
    "hgt:179cm\n",
    "\n",
    "hcl:#cfa07d eyr:2025 pid:166559648\n",
    "iyr:2011 ecl:brn hgt:59in\n",
    "```\n",
    "\n",
    "The first passport is valid - all eight fields are present. The second passport is invalid - it is missing hgt (the Height field).\n",
    "\n",
    "The third passport is interesting; the only missing field is cid, so it looks like data from North Pole Credentials, not a passport at all! Surely, nobody would mind if you made the system temporarily ignore missing cid fields. Treat this \"passport\" as valid.\n",
    "\n",
    "The fourth passport is missing two fields, cid and byr. Missing cid is fine, but missing any other field is not, so this passport is invalid.\n",
    "\n",
    "According to the above rules, your improved system would report 2 valid passports.\n",
    "\n",
    "Count the number of valid passports - those that have all required fields. Treat cid as optional. In your batch file, how many passports are valid?\n",
    "\n"
   ]
  },
  {
   "cell_type": "code",
   "execution_count": 196,
   "metadata": {
    "collapsed": true
   },
   "outputs": [
    {
     "name": "stderr",
     "output_type": "stream",
     "text": [
      "\u001b[32m\u001b[1m   Updating\u001b[22m\u001b[39m registry at `~/.julia/registries/General`\n"
     ]
    },
    {
     "name": "stdout",
     "output_type": "stream",
     "text": [
      "\u001b[?25l    "
     ]
    },
    {
     "name": "stderr",
     "output_type": "stream",
     "text": [
      "\u001b[32m\u001b[1m   Updating\u001b[22m\u001b[39m git-repo `https://github.com/JuliaRegistries/General.git`\n"
     ]
    },
    {
     "name": "stdout",
     "output_type": "stream",
     "text": [
      "\u001b[2K\u001b[?25h[1mFetching:\u001b[22m\u001b[39m [========================================>]  99.9 %  6.2 %\u001b[36m\u001b[1mFetching:\u001b[22m\u001b[39m [=====>                                   ]  10.9 %\u001b[36m\u001b[1mFetching:\u001b[22m\u001b[39m [=====>                                   ]  12.2 %\u001b[36m\u001b[1mFetching:\u001b[22m\u001b[39m [======>                                  ]  13.3 %\u001b[36m\u001b[1mFetching:\u001b[22m\u001b[39m [=======>                                 ]  15.1 %\u001b[36m\u001b[1mFetching:\u001b[22m\u001b[39m [========>                                ]  19.0 % [============>                            ]  29.1 %                        ]  38.8 %=====================>                   ]  51.5 %\u001b[36m\u001b[1mFetching:\u001b[22m\u001b[39m [======================>                  ]  53.5 %\u001b[36m\u001b[1mFetching:\u001b[22m\u001b[39m [=======================>                 ]  55.2 %>             ]  66.2 %\u001b[36m\u001b[1mFetching:\u001b[22m\u001b[39m [=============================>           ]  70.3 %\u001b[36m\u001b[1mFetching:\u001b[22m\u001b[39m [==============================>          ]  73.1 %>     ]  85.8 %>     ]  86.5 %\u001b[36m\u001b[1mFetching:\u001b[22m\u001b[39m [=======================================> ]  96.2 %\u001b[36m\u001b[1mFetching:\u001b[22m\u001b[39m [=======================================> ]  96.3 %\u001b[36m\u001b[1mFetching:\u001b[22m\u001b[39m [=======================================> ]  96.5 %\u001b[36m\u001b[1mFetching:\u001b[22m\u001b[39m [=======================================> ]  96.7 %\u001b[36m\u001b[1mFetching:\u001b[22m\u001b[39m [=======================================> ]  97.0 %\u001b[36m\u001b[1mFetching:\u001b[22m\u001b[39m [=======================================> ]  97.2 %\u001b[36m\u001b[1mFetching:\u001b[22m\u001b[39m [=======================================> ]  97.3 %"
     ]
    },
    {
     "name": "stderr",
     "output_type": "stream",
     "text": [
      "\u001b[32m\u001b[1m  Resolving\u001b[22m\u001b[39m package versions...\n",
      "\u001b[32m\u001b[1mUpdating\u001b[22m\u001b[39m `~/.julia/environments/v1.5/Project.toml`\n",
      " \u001b[90m [e1d29d7a] \u001b[39m\u001b[92m+ Missings v0.4.4\u001b[39m\n",
      "\u001b[32m\u001b[1mNo Changes\u001b[22m\u001b[39m to `~/.julia/environments/v1.5/Manifest.toml`\n"
     ]
    }
   ],
   "source": [
    "] add Missings"
   ]
  },
  {
   "cell_type": "code",
   "execution_count": 282,
   "metadata": {},
   "outputs": [
    {
     "name": "stderr",
     "output_type": "stream",
     "text": [
      "┌ Info: Precompiling FreqTables [da1fdf0e-e0ff-5433-a45f-9bb5ff651cb1]\n",
      "└ @ Base loading.jl:1278\n"
     ]
    }
   ],
   "source": [
    "using DataFrames\n",
    "using Pipe\n",
    "using Missings\n",
    "using FreqTables"
   ]
  },
  {
   "cell_type": "code",
   "execution_count": 245,
   "metadata": {},
   "outputs": [
    {
     "data": {
      "text/plain": [
       "1000"
      ]
     },
     "execution_count": 245,
     "metadata": {},
     "output_type": "execute_result"
    }
   ],
   "source": [
    "ENV[\"LINES\"] = 15\n",
    "ENV[\"COLUMNS\"] = 1000"
   ]
  },
  {
   "cell_type": "code",
   "execution_count": 1,
   "metadata": {},
   "outputs": [
    {
     "data": {
      "text/plain": [
       "\"ecl:gry pid:860033327 eyr:2020 hcl:#fffffd\\nbyr:1937 iyr:2017 cid:147 hgt:183cm\\n\\niyr:2013 ecl:amb cid:350 eyr:2023 pid:028048884\\nhcl:#cfa07d byr:1929\\n\\nhcl:#ae17e1 iyr:2013\\neyr:2024\\necl:brn pid:760753108 byr:1931\\nhgt:179cm\\n\\nhcl:#cfa07d eyr:2025 pid:166559648\\niyr:2011 ecl:brn hgt:59in\""
      ]
     },
     "execution_count": 1,
     "metadata": {},
     "output_type": "execute_result"
    }
   ],
   "source": [
    "test = \"ecl:gry pid:860033327 eyr:2020 hcl:#fffffd\n",
    "byr:1937 iyr:2017 cid:147 hgt:183cm\n",
    "\n",
    "iyr:2013 ecl:amb cid:350 eyr:2023 pid:028048884\n",
    "hcl:#cfa07d byr:1929\n",
    "\n",
    "hcl:#ae17e1 iyr:2013\n",
    "eyr:2024\n",
    "ecl:brn pid:760753108 byr:1931\n",
    "hgt:179cm\n",
    "\n",
    "hcl:#cfa07d eyr:2025 pid:166559648\n",
    "iyr:2011 ecl:brn hgt:59in\""
   ]
  },
  {
   "cell_type": "code",
   "execution_count": 61,
   "metadata": {},
   "outputs": [
    {
     "data": {
      "text/plain": [
       "count_valid (generic function with 1 method)"
      ]
     },
     "execution_count": 61,
     "metadata": {},
     "output_type": "execute_result"
    }
   ],
   "source": [
    "function count_valid(text)\n",
    "    passports_prepare = split(text, \"\\n\\n\") |> (x -> replace.(x, \"\\n\" => \" \")) \n",
    "    passports_prepare_splitted = split.(passports_prepare, \" \")\n",
    "    pass_cid_valid = isnothing.(match.(r\"cid\", passports_prepare))\n",
    "    pass_length = length.(passports_prepare_splitted)\n",
    "    pass_lengt_valid = (pass_length .== 7) .| (pass_length .== 8)\n",
    "    nvalid = sum(pass_length .== 8) + sum(pass_length .==7 .* pass_cid_valid)\n",
    "    return nvalid\n",
    "end\n",
    "\n"
   ]
  },
  {
   "cell_type": "code",
   "execution_count": 172,
   "metadata": {},
   "outputs": [
    {
     "data": {
      "text/plain": [
       "285"
      ]
     },
     "execution_count": 172,
     "metadata": {},
     "output_type": "execute_result"
    }
   ],
   "source": [
    "passports_data = readlines(\"input-4.txt\", keep=true)\n",
    "sum(passports_data .== \"\\n\")"
   ]
  },
  {
   "cell_type": "code",
   "execution_count": 93,
   "metadata": {},
   "outputs": [],
   "source": [
    "task_data = readlines(\"input-4.txt\", keep=true) |> (x -> reduce(*, x));"
   ]
  },
  {
   "cell_type": "code",
   "execution_count": 94,
   "metadata": {},
   "outputs": [
    {
     "data": {
      "text/plain": [
       "242"
      ]
     },
     "execution_count": 94,
     "metadata": {},
     "output_type": "execute_result"
    }
   ],
   "source": [
    "count_valid(task_data)"
   ]
  },
  {
   "cell_type": "markdown",
   "metadata": {},
   "source": [
    "## Part Two \n",
    "The line is moving more quickly now, but you overhear airport security talking about how passports with invalid data are getting through. Better add some data validation, quick!\n",
    "\n",
    "You can continue to ignore the cid field, but each other field has strict rules about what values are valid for automatic validation:\n",
    "\n",
    "```\n",
    "byr (Birth Year) - four digits; at least 1920 and at most 2002.\n",
    "iyr (Issue Year) - four digits; at least 2010 and at most 2020.\n",
    "eyr (Expiration Year) - four digits; at least 2020 and at most 2030.\n",
    "hgt (Height) - a number followed by either cm or in:\n",
    "If cm, the number must be at least 150 and at most 193.\n",
    "If in, the number must be at least 59 and at most 76.\n",
    "hcl (Hair Color) - a # followed by exactly six characters 0-9 or a-f.\n",
    "ecl (Eye Color) - exactly one of: amb blu brn gry grn hzl oth.\n",
    "pid (Passport ID) - a nine-digit number, including leading zeroes.\n",
    "cid (Country ID) - ignored, missing or not.\n",
    "```\n",
    "\n",
    "Your job is to count the passports where all required fields are both present and valid according to the above rules. Here are some example values:\n",
    "\n",
    "```\n",
    "byr valid:   2002\n",
    "byr invalid: 2003\n",
    "\n",
    "hgt valid:   60in\n",
    "hgt valid:   190cm\n",
    "hgt invalid: 190in\n",
    "hgt invalid: 190\n",
    "\n",
    "hcl valid:   #123abc\n",
    "hcl invalid: #123abz\n",
    "hcl invalid: 123abc\n",
    "\n",
    "ecl valid:   brn\n",
    "ecl invalid: wat\n",
    "\n",
    "pid valid:   000000001\n",
    "pid invalid: 0123456789\n",
    "```\n",
    "\n",
    "Here are some invalid passports:\n",
    "\n",
    "```\n",
    "eyr:1972 cid:100\n",
    "hcl:#18171d ecl:amb hgt:170 pid:186cm iyr:2018 byr:1926\n",
    "\n",
    "iyr:2019\n",
    "hcl:#602927 eyr:1967 hgt:170cm\n",
    "ecl:grn pid:012533040 byr:1946\n",
    "\n",
    "hcl:dab227 iyr:2012\n",
    "ecl:brn hgt:182cm pid:021572410 eyr:2020 byr:1992 cid:277\n",
    "\n",
    "hgt:59cm ecl:zzz\n",
    "eyr:2038 hcl:74454a iyr:2023\n",
    "pid:3556412378 byr:2007\n",
    "```\n",
    "\n",
    "Here are some valid passports:\n",
    "\n",
    "```\n",
    "pid:087499704 hgt:74in ecl:grn iyr:2012 eyr:2030 byr:1980\n",
    "hcl:#623a2f\n",
    "\n",
    "eyr:2029 ecl:blu cid:129 byr:1989\n",
    "iyr:2014 pid:896056539 hcl:#a97842 hgt:165cm\n",
    "\n",
    "hcl:#888785\n",
    "hgt:164cm byr:2001 iyr:2015 cid:88\n",
    "pid:545766238 ecl:hzl\n",
    "eyr:2022\n",
    "\n",
    "iyr:2010 hgt:158cm hcl:#b6652a ecl:blu byr:1944 eyr:2021 pid:093154719\n",
    "```\n",
    "\n",
    "Count the number of valid passports - those that have all required fields and valid values. Continue to treat cid as optional. In your batch file, how many passports are valid?\n"
   ]
  },
  {
   "cell_type": "code",
   "execution_count": 372,
   "metadata": {},
   "outputs": [
    {
     "data": {
      "text/plain": [
       "tryparsem (generic function with 1 method)"
      ]
     },
     "execution_count": 372,
     "metadata": {},
     "output_type": "execute_result"
    }
   ],
   "source": [
    "function passport_create_df(txt)\n",
    "    passports_prepare = split(txt, \"\\n\\n\") |> \n",
    "                        (x -> replace.(x, r\"\\n$\" => \"\")) |>\n",
    "                        (x -> replace.(x, \"\\n\" => \" \")) |>\n",
    "                        (x -> split.(x, \" \")) |>\n",
    "                        (x -> map(y -> split.(y, \":\"), x)) \n",
    "\n",
    "    passports_df = DataFrame()\n",
    "    passports_data = [Dict(i) for i in passports_prepare]\n",
    "    \n",
    "    foreach(passports_data) do row\n",
    "        push!(passports_df, row, cols=:union)\n",
    "    end\n",
    "\n",
    "    select!(passports_df, [:byr, :iyr, :eyr, :hgt, :hcl, :ecl, :pid, :cid])\n",
    "    mapcols!(x -> string.(x), passports_df) \n",
    "    allowmissing!(passports_df)\n",
    "        \n",
    "    return passports_df\n",
    "end\n",
    "\n",
    "tryparsem(T, str) = something(tryparse(T, str), missing)"
   ]
  },
  {
   "cell_type": "code",
   "execution_count": 373,
   "metadata": {},
   "outputs": [
    {
     "data": {
      "text/html": [
       "<table class=\"data-frame\"><thead><tr><th></th><th>byr</th><th>iyr</th><th>eyr</th><th>hgt</th><th>hcl</th><th>ecl</th><th>pid</th><th>cid</th></tr><tr><th></th><th>String?</th><th>String?</th><th>String?</th><th>String?</th><th>String?</th><th>String?</th><th>String?</th><th>String?</th></tr></thead><tbody><p>286 rows × 8 columns</p><tr><th>1</th><td>1971</td><td>2012</td><td>2039</td><td>172in</td><td>17106b</td><td>gry</td><td>170cm</td><td>339</td></tr><tr><th>2</th><td>1977</td><td>2011</td><td>2027</td><td>161cm</td><td>#a97842</td><td>grn</td><td>910468396</td><td>missing</td></tr><tr><th>3</th><td>1941</td><td>2012</td><td>2029</td><td>186cm</td><td>#cfa07d</td><td>gry</td><td>108935675</td><td>257</td></tr><tr><th>4</th><td>1973</td><td>missing</td><td>2035</td><td>165in</td><td>#cfa07d</td><td>xry</td><td>82570731</td><td>74</td></tr><tr><th>5</th><td>1966</td><td>2012</td><td>2020</td><td>151cm</td><td>#ceb3a1</td><td>grn</td><td>947726115</td><td>105</td></tr><tr><th>6</th><td>1966</td><td>2012</td><td>2027</td><td>155cm</td><td>#888785</td><td>hzl</td><td>853607760</td><td>missing</td></tr><tr><th>7</th><td>1952</td><td>2019</td><td>2033</td><td>61cm</td><td>z</td><td>#7d39d5</td><td>#1468e6</td><td>missing</td></tr><tr><th>8</th><td>2008</td><td>2024</td><td>2032</td><td>151in</td><td>z</td><td>brn</td><td>2306523501</td><td>266</td></tr><tr><th>9</th><td>1923</td><td>2019</td><td>2025</td><td>191cm</td><td>#a97842</td><td>gry</td><td>574171850</td><td>missing</td></tr><tr><th>10</th><td>2003</td><td>1987</td><td>2013</td><td>140</td><td>z</td><td>#19177c</td><td>150cm</td><td>242</td></tr><tr><th>11</th><td>1959</td><td>missing</td><td>2028</td><td>169cm</td><td>#7d3b0c</td><td>gry</td><td>584790749</td><td>107</td></tr><tr><th>12</th><td>1955</td><td>2020</td><td>2029</td><td>188cm</td><td>#a97842</td><td>oth</td><td>740105085</td><td>309</td></tr><tr><th>13</th><td>1974</td><td>2016</td><td>2026</td><td>151cm</td><td>#cfa07d</td><td>grn</td><td>394185014</td><td>missing</td></tr><tr><th>14</th><td>1956</td><td>2014</td><td>2029</td><td>188cm</td><td>#efcc98</td><td>blu</td><td>226566060</td><td>272</td></tr><tr><th>15</th><td>2025</td><td>2022</td><td>2006</td><td>169</td><td>#7d3b0c</td><td>#8fa327</td><td>#7c7a9d</td><td>missing</td></tr><tr><th>&vellip;</th><td>&vellip;</td><td>&vellip;</td><td>&vellip;</td><td>&vellip;</td><td>&vellip;</td><td>&vellip;</td><td>&vellip;</td><td>&vellip;</td></tr></tbody></table>"
      ],
      "text/latex": [
       "\\begin{tabular}{r|cccccccc}\n",
       "\t& byr & iyr & eyr & hgt & hcl & ecl & pid & cid\\\\\n",
       "\t\\hline\n",
       "\t& String? & String? & String? & String? & String? & String? & String? & String?\\\\\n",
       "\t\\hline\n",
       "\t1 & 1971 & 2012 & 2039 & 172in & 17106b & gry & 170cm & 339 \\\\\n",
       "\t2 & 1977 & 2011 & 2027 & 161cm & \\#a97842 & grn & 910468396 & missing \\\\\n",
       "\t3 & 1941 & 2012 & 2029 & 186cm & \\#cfa07d & gry & 108935675 & 257 \\\\\n",
       "\t4 & 1973 & missing & 2035 & 165in & \\#cfa07d & xry & 82570731 & 74 \\\\\n",
       "\t5 & 1966 & 2012 & 2020 & 151cm & \\#ceb3a1 & grn & 947726115 & 105 \\\\\n",
       "\t6 & 1966 & 2012 & 2027 & 155cm & \\#888785 & hzl & 853607760 & missing \\\\\n",
       "\t7 & 1952 & 2019 & 2033 & 61cm & z & \\#7d39d5 & \\#1468e6 & missing \\\\\n",
       "\t8 & 2008 & 2024 & 2032 & 151in & z & brn & 2306523501 & 266 \\\\\n",
       "\t9 & 1923 & 2019 & 2025 & 191cm & \\#a97842 & gry & 574171850 & missing \\\\\n",
       "\t10 & 2003 & 1987 & 2013 & 140 & z & \\#19177c & 150cm & 242 \\\\\n",
       "\t11 & 1959 & missing & 2028 & 169cm & \\#7d3b0c & gry & 584790749 & 107 \\\\\n",
       "\t12 & 1955 & 2020 & 2029 & 188cm & \\#a97842 & oth & 740105085 & 309 \\\\\n",
       "\t13 & 1974 & 2016 & 2026 & 151cm & \\#cfa07d & grn & 394185014 & missing \\\\\n",
       "\t14 & 1956 & 2014 & 2029 & 188cm & \\#efcc98 & blu & 226566060 & 272 \\\\\n",
       "\t15 & 2025 & 2022 & 2006 & 169 & \\#7d3b0c & \\#8fa327 & \\#7c7a9d & missing \\\\\n",
       "\t$\\dots$ & $\\dots$ & $\\dots$ & $\\dots$ & $\\dots$ & $\\dots$ & $\\dots$ & $\\dots$ & $\\dots$ \\\\\n",
       "\\end{tabular}\n"
      ],
      "text/plain": [
       "286×8 DataFrame\n",
       "│ Row │ byr     │ iyr     │ eyr     │ hgt     │ hcl     │ ecl     │ pid        │ cid     │\n",
       "│     │ \u001b[90mString?\u001b[39m │ \u001b[90mString?\u001b[39m │ \u001b[90mString?\u001b[39m │ \u001b[90mString?\u001b[39m │ \u001b[90mString?\u001b[39m │ \u001b[90mString?\u001b[39m │ \u001b[90mString?\u001b[39m    │ \u001b[90mString?\u001b[39m │\n",
       "├─────┼─────────┼─────────┼─────────┼─────────┼─────────┼─────────┼────────────┼─────────┤\n",
       "│ 1   │ 1971    │ 2012    │ 2039    │ 172in   │ 17106b  │ gry     │ 170cm      │ 339     │\n",
       "│ 2   │ 1977    │ 2011    │ 2027    │ 161cm   │ #a97842 │ grn     │ 910468396  │ missing │\n",
       "│ 3   │ 1941    │ 2012    │ 2029    │ 186cm   │ #cfa07d │ gry     │ 108935675  │ 257     │\n",
       "⋮\n",
       "│ 283 │ 1966    │ 2010    │ 2028    │ 173cm   │ #ceb3a1 │ grn     │ 074363489  │ missing │\n",
       "│ 284 │ 2023    │ 2022    │ 2030    │ 161in   │ z       │ #f8824c │ 9731612333 │ 316     │\n",
       "│ 285 │ 1952    │ 2016    │ 2024    │ 175cm   │ #fffffd │ brn     │ 085432899  │ 244     │\n",
       "│ 286 │ 1969    │ 2017    │ 2026    │ 75in    │ #7394c7 │ brn     │ 745302991  │ missing │"
      ]
     },
     "execution_count": 373,
     "metadata": {},
     "output_type": "execute_result"
    }
   ],
   "source": [
    "passport_create_df(task_data) "
   ]
  },
  {
   "cell_type": "code",
   "execution_count": 416,
   "metadata": {
    "scrolled": false
   },
   "outputs": [
    {
     "data": {
      "text/html": [
       "<table class=\"data-frame\"><thead><tr><th></th><th>byr</th><th>iyr</th><th>eyr</th><th>hgt</th><th>hcl</th><th>ecl</th><th>pid</th><th>cid</th><th>flag_byr</th><th>flag_iyr</th><th>flag_eyr</th><th>flag_hcl</th><th>flag_ecl</th><th>flag_pid</th><th>flag_hgt</th><th>flag_cid</th></tr><tr><th></th><th>Int64?</th><th>Int64?</th><th>Int64?</th><th>String?</th><th>String?</th><th>String?</th><th>String?</th><th>String?</th><th>Bool?</th><th>Bool?</th><th>Bool?</th><th>Bool</th><th>Bool</th><th>Bool</th><th>Bool?</th><th>Bool</th></tr></thead><tbody><p>286 rows × 16 columns</p><tr><th>1</th><td>1971</td><td>2012</td><td>2039</td><td>172in</td><td>17106b</td><td>gry</td><td>170cm</td><td>339</td><td>1</td><td>1</td><td>0</td><td>0</td><td>1</td><td>0</td><td>0</td><td>1</td></tr><tr><th>2</th><td>1977</td><td>2011</td><td>2027</td><td>161cm</td><td>#a97842</td><td>grn</td><td>910468396</td><td>missing</td><td>1</td><td>1</td><td>1</td><td>1</td><td>1</td><td>1</td><td>1</td><td>1</td></tr><tr><th>3</th><td>1941</td><td>2012</td><td>2029</td><td>186cm</td><td>#cfa07d</td><td>gry</td><td>108935675</td><td>257</td><td>1</td><td>1</td><td>1</td><td>1</td><td>1</td><td>1</td><td>1</td><td>1</td></tr><tr><th>4</th><td>1973</td><td><em>missing</em></td><td>2035</td><td>165in</td><td>#cfa07d</td><td>xry</td><td>82570731</td><td>74</td><td>1</td><td><em>missing</em></td><td>0</td><td>1</td><td>0</td><td>0</td><td>0</td><td>1</td></tr><tr><th>5</th><td>1966</td><td>2012</td><td>2020</td><td>151cm</td><td>#ceb3a1</td><td>grn</td><td>947726115</td><td>105</td><td>1</td><td>1</td><td>1</td><td>1</td><td>1</td><td>1</td><td>1</td><td>1</td></tr><tr><th>6</th><td>1966</td><td>2012</td><td>2027</td><td>155cm</td><td>#888785</td><td>hzl</td><td>853607760</td><td>missing</td><td>1</td><td>1</td><td>1</td><td>1</td><td>1</td><td>1</td><td>1</td><td>1</td></tr><tr><th>7</th><td>1952</td><td>2019</td><td>2033</td><td>61cm</td><td>z</td><td>#7d39d5</td><td>#1468e6</td><td>missing</td><td>1</td><td>1</td><td>0</td><td>0</td><td>0</td><td>0</td><td>0</td><td>1</td></tr><tr><th>8</th><td>2008</td><td>2024</td><td>2032</td><td>151in</td><td>z</td><td>brn</td><td>2306523501</td><td>266</td><td>0</td><td>0</td><td>0</td><td>0</td><td>1</td><td>0</td><td>0</td><td>1</td></tr><tr><th>9</th><td>1923</td><td>2019</td><td>2025</td><td>191cm</td><td>#a97842</td><td>gry</td><td>574171850</td><td>missing</td><td>1</td><td>1</td><td>1</td><td>1</td><td>1</td><td>1</td><td>1</td><td>1</td></tr><tr><th>10</th><td>2003</td><td>1987</td><td>2013</td><td>140</td><td>z</td><td>#19177c</td><td>150cm</td><td>242</td><td>0</td><td>0</td><td>0</td><td>0</td><td>0</td><td>0</td><td>0</td><td>1</td></tr><tr><th>11</th><td>1959</td><td><em>missing</em></td><td>2028</td><td>169cm</td><td>#7d3b0c</td><td>gry</td><td>584790749</td><td>107</td><td>1</td><td><em>missing</em></td><td>1</td><td>1</td><td>1</td><td>1</td><td>1</td><td>1</td></tr><tr><th>12</th><td>1955</td><td>2020</td><td>2029</td><td>188cm</td><td>#a97842</td><td>oth</td><td>740105085</td><td>309</td><td>1</td><td>1</td><td>1</td><td>1</td><td>1</td><td>1</td><td>1</td><td>1</td></tr><tr><th>13</th><td>1974</td><td>2016</td><td>2026</td><td>151cm</td><td>#cfa07d</td><td>grn</td><td>394185014</td><td>missing</td><td>1</td><td>1</td><td>1</td><td>1</td><td>1</td><td>1</td><td>1</td><td>1</td></tr><tr><th>14</th><td>1956</td><td>2014</td><td>2029</td><td>188cm</td><td>#efcc98</td><td>blu</td><td>226566060</td><td>272</td><td>1</td><td>1</td><td>1</td><td>1</td><td>1</td><td>1</td><td>1</td><td>1</td></tr><tr><th>15</th><td>2025</td><td>2022</td><td>2006</td><td>169</td><td>#7d3b0c</td><td>#8fa327</td><td>#7c7a9d</td><td>missing</td><td>0</td><td>0</td><td>0</td><td>1</td><td>0</td><td>0</td><td>1</td><td>1</td></tr><tr><th>&vellip;</th><td>&vellip;</td><td>&vellip;</td><td>&vellip;</td><td>&vellip;</td><td>&vellip;</td><td>&vellip;</td><td>&vellip;</td><td>&vellip;</td><td>&vellip;</td><td>&vellip;</td><td>&vellip;</td><td>&vellip;</td><td>&vellip;</td><td>&vellip;</td><td>&vellip;</td><td>&vellip;</td></tr></tbody></table>"
      ],
      "text/latex": [
       "\\begin{tabular}{r|cccccccccccccccc}\n",
       "\t& byr & iyr & eyr & hgt & hcl & ecl & pid & cid & flag\\_byr & flag\\_iyr & flag\\_eyr & flag\\_hcl & flag\\_ecl & flag\\_pid & flag\\_hgt & flag\\_cid\\\\\n",
       "\t\\hline\n",
       "\t& Int64? & Int64? & Int64? & String? & String? & String? & String? & String? & Bool? & Bool? & Bool? & Bool & Bool & Bool & Bool? & Bool\\\\\n",
       "\t\\hline\n",
       "\t1 & 1971 & 2012 & 2039 & 172in & 17106b & gry & 170cm & 339 & 1 & 1 & 0 & 0 & 1 & 0 & 0 & 1 \\\\\n",
       "\t2 & 1977 & 2011 & 2027 & 161cm & \\#a97842 & grn & 910468396 & missing & 1 & 1 & 1 & 1 & 1 & 1 & 1 & 1 \\\\\n",
       "\t3 & 1941 & 2012 & 2029 & 186cm & \\#cfa07d & gry & 108935675 & 257 & 1 & 1 & 1 & 1 & 1 & 1 & 1 & 1 \\\\\n",
       "\t4 & 1973 & \\emph{missing} & 2035 & 165in & \\#cfa07d & xry & 82570731 & 74 & 1 & \\emph{missing} & 0 & 1 & 0 & 0 & 0 & 1 \\\\\n",
       "\t5 & 1966 & 2012 & 2020 & 151cm & \\#ceb3a1 & grn & 947726115 & 105 & 1 & 1 & 1 & 1 & 1 & 1 & 1 & 1 \\\\\n",
       "\t6 & 1966 & 2012 & 2027 & 155cm & \\#888785 & hzl & 853607760 & missing & 1 & 1 & 1 & 1 & 1 & 1 & 1 & 1 \\\\\n",
       "\t7 & 1952 & 2019 & 2033 & 61cm & z & \\#7d39d5 & \\#1468e6 & missing & 1 & 1 & 0 & 0 & 0 & 0 & 0 & 1 \\\\\n",
       "\t8 & 2008 & 2024 & 2032 & 151in & z & brn & 2306523501 & 266 & 0 & 0 & 0 & 0 & 1 & 0 & 0 & 1 \\\\\n",
       "\t9 & 1923 & 2019 & 2025 & 191cm & \\#a97842 & gry & 574171850 & missing & 1 & 1 & 1 & 1 & 1 & 1 & 1 & 1 \\\\\n",
       "\t10 & 2003 & 1987 & 2013 & 140 & z & \\#19177c & 150cm & 242 & 0 & 0 & 0 & 0 & 0 & 0 & 0 & 1 \\\\\n",
       "\t11 & 1959 & \\emph{missing} & 2028 & 169cm & \\#7d3b0c & gry & 584790749 & 107 & 1 & \\emph{missing} & 1 & 1 & 1 & 1 & 1 & 1 \\\\\n",
       "\t12 & 1955 & 2020 & 2029 & 188cm & \\#a97842 & oth & 740105085 & 309 & 1 & 1 & 1 & 1 & 1 & 1 & 1 & 1 \\\\\n",
       "\t13 & 1974 & 2016 & 2026 & 151cm & \\#cfa07d & grn & 394185014 & missing & 1 & 1 & 1 & 1 & 1 & 1 & 1 & 1 \\\\\n",
       "\t14 & 1956 & 2014 & 2029 & 188cm & \\#efcc98 & blu & 226566060 & 272 & 1 & 1 & 1 & 1 & 1 & 1 & 1 & 1 \\\\\n",
       "\t15 & 2025 & 2022 & 2006 & 169 & \\#7d3b0c & \\#8fa327 & \\#7c7a9d & missing & 0 & 0 & 0 & 1 & 0 & 0 & 1 & 1 \\\\\n",
       "\t$\\dots$ & $\\dots$ & $\\dots$ & $\\dots$ & $\\dots$ & $\\dots$ & $\\dots$ & $\\dots$ & $\\dots$ & $\\dots$ & $\\dots$ & $\\dots$ & $\\dots$ & $\\dots$ & $\\dots$ & $\\dots$ & $\\dots$ \\\\\n",
       "\\end{tabular}\n"
      ],
      "text/plain": [
       "286×16 DataFrame\n",
       "│ Row │ byr    │ iyr    │ eyr    │ hgt     │ hcl     │ ecl     │ pid        │ cid     │ flag_byr │ flag_iyr │ flag_eyr │ flag_hcl │ flag_ecl │ flag_pid │ flag_hgt │ flag_cid │\n",
       "│     │ \u001b[90mInt64?\u001b[39m │ \u001b[90mInt64?\u001b[39m │ \u001b[90mInt64?\u001b[39m │ \u001b[90mString?\u001b[39m │ \u001b[90mString?\u001b[39m │ \u001b[90mString?\u001b[39m │ \u001b[90mString?\u001b[39m    │ \u001b[90mString?\u001b[39m │ \u001b[90mBool?\u001b[39m    │ \u001b[90mBool?\u001b[39m    │ \u001b[90mBool?\u001b[39m    │ \u001b[90mBool\u001b[39m     │ \u001b[90mBool\u001b[39m     │ \u001b[90mBool\u001b[39m     │ \u001b[90mBool?\u001b[39m    │ \u001b[90mBool\u001b[39m     │\n",
       "├─────┼────────┼────────┼────────┼─────────┼─────────┼─────────┼────────────┼─────────┼──────────┼──────────┼──────────┼──────────┼──────────┼──────────┼──────────┼──────────┤\n",
       "│ 1   │ 1971   │ 2012   │ 2039   │ 172in   │ 17106b  │ gry     │ 170cm      │ 339     │ 1        │ 1        │ 0        │ 0        │ 1        │ 0        │ 0        │ 1        │\n",
       "│ 2   │ 1977   │ 2011   │ 2027   │ 161cm   │ #a97842 │ grn     │ 910468396  │ missing │ 1        │ 1        │ 1        │ 1        │ 1        │ 1        │ 1        │ 1        │\n",
       "│ 3   │ 1941   │ 2012   │ 2029   │ 186cm   │ #cfa07d │ gry     │ 108935675  │ 257     │ 1        │ 1        │ 1        │ 1        │ 1        │ 1        │ 1        │ 1        │\n",
       "⋮\n",
       "│ 283 │ 1966   │ 2010   │ 2028   │ 173cm   │ #ceb3a1 │ grn     │ 074363489  │ missing │ 1        │ 1        │ 1        │ 1        │ 1        │ 1        │ 1        │ 1        │\n",
       "│ 284 │ 2023   │ 2022   │ 2030   │ 161in   │ z       │ #f8824c │ 9731612333 │ 316     │ 0        │ 0        │ 1        │ 0        │ 0        │ 0        │ 0        │ 1        │\n",
       "│ 285 │ 1952   │ 2016   │ 2024   │ 175cm   │ #fffffd │ brn     │ 085432899  │ 244     │ 1        │ 1        │ 1        │ 1        │ 1        │ 1        │ 1        │ 1        │\n",
       "│ 286 │ 1969   │ 2017   │ 2026   │ 75in    │ #7394c7 │ brn     │ 745302991  │ missing │ 1        │ 1        │ 1        │ 1        │ 1        │ 1        │ 1        │ 1        │"
      ]
     },
     "execution_count": 416,
     "metadata": {},
     "output_type": "execute_result"
    }
   ],
   "source": [
    "pass_df = @pipe passport_create_df(task_data) |>\n",
    "    transform(_, :byr => ByRow(x -> tryparsem(Int, x)) => :byr,\n",
    "                 :iyr => ByRow(x -> tryparsem(Int, x)) => :iyr, \n",
    "                 :eyr => ByRow(x -> tryparsem(Int, x)) => :eyr) |>\n",
    "    transform(_, :byr => ByRow(x -> x ∈ 1920:2002) => :flag_byr,\n",
    "                 :iyr => ByRow(x -> x ∈ 2010:2020) => :flag_iyr,\n",
    "                 :eyr => ByRow(x -> x ∈ 2020:2030) => :flag_eyr,\n",
    "                 :hcl => ByRow(x -> contains(x, r\"^\\#[0-9a-f]{6}$\")) => :flag_hcl,\n",
    "                 :ecl => ByRow(x -> contains(x, r\"amb|blu|brn|gry|grn|hzl|oth\")) => :flag_ecl,\n",
    "                 :pid => ByRow(x -> contains(x, r\"^\\d{9}$\")) => :flag_pid,\n",
    "                 :hgt => ByRow(x -> ifelse(contains(x, \"in\"), \n",
    "                                            tryparsem.(Int, replace.(x, r\"in|cm\" => \"\")) ∈ 59:76,\n",
    "                                            tryparsem.(Int, replace.(x, r\"in|cm\" => \"\")) ∈ 150:193)) => :flag_hgt,\n",
    "                 :cid => ByRow(x -> ismissing(x) | (typeof(x) == String)) => :flag_cid\n",
    ")\n"
   ]
  },
  {
   "cell_type": "code",
   "execution_count": 430,
   "metadata": {},
   "outputs": [
    {
     "data": {
      "text/plain": [
       "9-element Named Array{Int64,1}\n",
       "Dim1    │ \n",
       "────────┼────\n",
       "1       │   6\n",
       "2       │  13\n",
       "3       │   5\n",
       "4       │   6\n",
       "5       │   8\n",
       "6       │   6\n",
       "7       │  24\n",
       "8       │ 186\n",
       "missing │  32"
      ]
     },
     "execution_count": 430,
     "metadata": {},
     "output_type": "execute_result"
    }
   ],
   "source": [
    "eachrow(select(pass_df, r\"flag\")) .|> sum |> freqtable"
   ]
  },
  {
   "cell_type": "markdown",
   "metadata": {},
   "source": [
    "rules \n",
    "```\n",
    "byr (Birth Year) - four digits; at least 1920 and at most 2002.\n",
    "iyr (Issue Year) - four digits; at least 2010 and at most 2020.\n",
    "eyr (Expiration Year) - four digits; at least 2020 and at most 2030.\n",
    "hgt (Height) - a number followed by either cm or in:\n",
    "If cm, the number must be at least 150 and at most 193.\n",
    "If in, the number must be at least 59 and at most 76.\n",
    "hcl (Hair Color) - a # followed by exactly six characters 0-9 or a-f.\n",
    "ecl (Eye Color) - exactly one of: amb blu brn gry grn hzl oth.\n",
    "pid (Passport ID) - a nine-digit number, including leading zeroes.\n",
    "cid (Country ID) - ignored, missing or not.\n",
    "```"
   ]
  }
 ],
 "metadata": {
  "kernelspec": {
   "display_name": "Julia 1.5.0",
   "language": "julia",
   "name": "julia-1.5"
  },
  "language_info": {
   "file_extension": ".jl",
   "mimetype": "application/julia",
   "name": "julia",
   "version": "1.5.0"
  }
 },
 "nbformat": 4,
 "nbformat_minor": 4
}
